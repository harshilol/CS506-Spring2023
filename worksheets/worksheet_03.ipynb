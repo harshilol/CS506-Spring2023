{
  "cells": [
    {
      "cell_type": "markdown",
      "metadata": {
        "id": "p7GMivELs_YQ"
      },
      "source": [
        "# Worksheet 03\n",
        "\n",
        "Name: Harshil\n",
        "UID: U05409390\n",
        "\n",
        "### Topics\n",
        "\n",
        "- Intro to DS\n",
        "\n",
        "### Linear Algebra Review\n",
        "\n",
        "If you need a linear algebra review, please read through the [following pdf](https://github.com/gallettilance/CS506-Spring2023/raw/main/worksheets/lecture_03_linear_algebra_review.pdf) before next class\n",
        "\n",
        "### Intro to Data Science\n",
        "\n",
        "a) what property must a hypothesis have?"
      ]
    },
    {
      "cell_type": "markdown",
      "metadata": {
        "id": "PJYkLyAds_Ya"
      },
      "source": [
        "A hypothesis should not be able to explain all the outcomes. This would mean that it gives us no new information in that it cannot distinguish between explainable and non-explainable outcomes."
      ]
    },
    {
      "cell_type": "markdown",
      "metadata": {
        "id": "BBaE3HXOs_Yb"
      },
      "source": [
        "b) what examples would you have wanted to try?"
      ]
    },
    {
      "cell_type": "markdown",
      "metadata": {
        "id": "YeMlHB7Us_Yb"
      },
      "source": [
        "99, 98, 97"
      ]
    },
    {
      "cell_type": "markdown",
      "metadata": {
        "id": "OOVsDG8Ds_Yc"
      },
      "source": [
        "c) Poll 1"
      ]
    },
    {
      "cell_type": "markdown",
      "metadata": {
        "id": "Hg9ZmPxys_Yc"
      },
      "source": [
        "5, 7, 9 follows the hypothesis"
      ]
    },
    {
      "cell_type": "markdown",
      "metadata": {
        "id": "poQJ9gWzs_Yc"
      },
      "source": [
        "d) Given the hypothesis (x, 2x, 3x), for each of the following, determine whether they are positive or negative examples:\n",
        "\n",
        "- (2, 4, 6)\n",
        "- (6, 8 , 10)\n",
        "- (1, 3, 5)"
      ]
    },
    {
      "cell_type": "markdown",
      "metadata": {
        "id": "ovYB09Ras_Yd"
      },
      "source": [
        "1) (2, 4, 6) is a positive example\n",
        "\n",
        "2) (6, 8, 10) is a negative example\n",
        "\n",
        "3) (1, 3, 5) is a negative example"
      ]
    },
    {
      "cell_type": "markdown",
      "metadata": {
        "id": "m0_tE36os_Yd"
      },
      "source": [
        "e) Poll 2"
      ]
    },
    {
      "cell_type": "markdown",
      "metadata": {
        "id": "zBNERjFSs_Ye"
      },
      "source": []
    },
    {
      "cell_type": "markdown",
      "metadata": {
        "id": "0RoUQAkms_Ye"
      },
      "source": [
        "f) Describe steps of a Data Science Workflow"
      ]
    },
    {
      "cell_type": "markdown",
      "metadata": {
        "id": "ewIc1Loes_Yf"
      },
      "source": [
        "Step 1: Data Science Problem Framework Phase\n",
        "\n",
        "Step 2: Data Acquisition Phase\n",
        "\n",
        "Step 3: Data Exploration\n",
        "\n",
        "Step 4: Data Modeling\n",
        "\n",
        "Step 5: Reflection or Inference Phase\n",
        "\n",
        "Step 6: Communicating & Visualizing Results"
      ]
    },
    {
      "cell_type": "markdown",
      "metadata": {
        "id": "trIvDxsbs_Yf"
      },
      "source": [
        "g) Give a real world example for each of the following data types:\n",
        "\n",
        "- record\n",
        "- graph\n",
        "- image\n",
        "- text"
      ]
    },
    {
      "cell_type": "markdown",
      "metadata": {
        "id": "UvF9O-R8s_Yg"
      },
      "source": [
        "1) \"Record\" is a subjective term here. I don't understand what it means specifically.\n",
        "\n",
        "2) Graph data structures are used in GPS navigation (google maps, Apple maps)\n",
        "\n",
        "3) Images are used in social media platforms like Instagram, Facebook\n",
        "\n",
        "4) Text data type is instrumental to sharing information on the Internet\n",
        "\n",
        "5) Time series data is used to forecast or predict new values based on historical values (e.g. rainfall measurements, stock prices)"
      ]
    },
    {
      "cell_type": "markdown",
      "metadata": {
        "id": "ui0_u8Iys_Yg"
      },
      "source": [
        "h) Give a real world example of unsupervised learning"
      ]
    },
    {
      "cell_type": "markdown",
      "metadata": {
        "id": "mpPCVJzAs_Yh"
      },
      "source": [
        "Clustering any kind of data that does not have labels. "
      ]
    },
    {
      "cell_type": "markdown",
      "metadata": {
        "id": "TFMR_QATs_Yh"
      },
      "source": [
        "i) Give a real world example of supervised learning"
      ]
    },
    {
      "cell_type": "markdown",
      "metadata": {
        "id": "v-8NU4G-s_Yh"
      },
      "source": [
        "Object recognition in self-driving cars is done via a supervised set of data with labels that pertain to certain objects on roads."
      ]
    }
  ],
  "metadata": {
    "kernelspec": {
      "display_name": "Python 3",
      "language": "python",
      "name": "python3"
    },
    "language_info": {
      "codemirror_mode": {
        "name": "ipython",
        "version": 3
      },
      "file_extension": ".py",
      "mimetype": "text/x-python",
      "name": "python",
      "nbconvert_exporter": "python",
      "pygments_lexer": "ipython3",
      "version": "3.11.1 (main, Dec  7 2022, 00:00:00) [GCC 12.2.1 20221121 (Red Hat 12.2.1-4)]"
    },
    "orig_nbformat": 4,
    "vscode": {
      "interpreter": {
        "hash": "e7370f93d1d0cde622a1f8e1c04877d8463912d04d973331ad4851f04de6915a"
      }
    },
    "colab": {
      "provenance": []
    }
  },
  "nbformat": 4,
  "nbformat_minor": 0
}